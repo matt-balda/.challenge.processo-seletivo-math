{
 "cells": [
  {
   "cell_type": "code",
   "execution_count": 1,
   "metadata": {},
   "outputs": [],
   "source": [
    "import pandas as pd\n",
    "import matplotlib.pyplot as plt\n",
    "import warnings\n",
    "\n",
    "warnings.filterwarnings('ignore')"
   ]
  },
  {
   "cell_type": "markdown",
   "metadata": {},
   "source": [
    "## Código com pandas"
   ]
  },
  {
   "cell_type": "code",
   "execution_count": 2,
   "metadata": {},
   "outputs": [],
   "source": [
    "# Criando DataFrames das tabelas\n",
    "\n",
    "clientes = pd.DataFrame({\n",
    "    \"CD_CLIENTE\": [1, 2, 3, 4, 5],\n",
    "    \"NM_CLIENTE\": [\"João\", \"Maria\", \"José\", \"Adilson\", \"Cleber\"]\n",
    "})\n",
    "\n",
    "transacoes = pd.DataFrame({\n",
    "    \"CD_CLIENTE\": [1, 1, 1, 1, 1, 5, 5, 5, 5, 5, 3, 3, 3, 4],\n",
    "    \"DT_TRANSACAO\": pd.to_datetime([\"2021-08-28\", \"2021-09-09\", \"2021-09-17\", \"2021-11-15\", \"2021-12-24\",\n",
    "                                      \"2021-10-28\", \"2021-11-07\", \"2021-12-05\", \"2021-12-14\", \"2021-12-21\",\n",
    "                                      \"2021-10-05\", \"2021-11-05\", \"2021-12-05\", \"2021-10-09\"]),\n",
    "    \"CD_TRANSACAO\": [\"000\", \"110\", \"220\", \"110\", \"220\", \"110\", \"110\", \"220\", \"220\", \"220\", \"110\", \"110\", \"110\", \"000\"],\n",
    "    \"VR_TRANSACAO\": [20.00, 78.90, -58.00, 178.90, -110.37, 220.00, 380.00, -398.86, -33.90, -16.90, 720.90, 720.90, 720.90, 50.00]\n",
    "})"
   ]
  },
  {
   "cell_type": "code",
   "execution_count": 3,
   "metadata": {},
   "outputs": [
    {
     "data": {
      "text/html": [
       "<div>\n",
       "<style scoped>\n",
       "    .dataframe tbody tr th:only-of-type {\n",
       "        vertical-align: middle;\n",
       "    }\n",
       "\n",
       "    .dataframe tbody tr th {\n",
       "        vertical-align: top;\n",
       "    }\n",
       "\n",
       "    .dataframe thead th {\n",
       "        text-align: right;\n",
       "    }\n",
       "</style>\n",
       "<table border=\"1\" class=\"dataframe\">\n",
       "  <thead>\n",
       "    <tr style=\"text-align: right;\">\n",
       "      <th></th>\n",
       "      <th>CD_CLIENTE</th>\n",
       "      <th>NM_CLIENTE</th>\n",
       "    </tr>\n",
       "  </thead>\n",
       "  <tbody>\n",
       "    <tr>\n",
       "      <th>0</th>\n",
       "      <td>1</td>\n",
       "      <td>João</td>\n",
       "    </tr>\n",
       "    <tr>\n",
       "      <th>1</th>\n",
       "      <td>2</td>\n",
       "      <td>Maria</td>\n",
       "    </tr>\n",
       "    <tr>\n",
       "      <th>2</th>\n",
       "      <td>3</td>\n",
       "      <td>José</td>\n",
       "    </tr>\n",
       "    <tr>\n",
       "      <th>3</th>\n",
       "      <td>4</td>\n",
       "      <td>Adilson</td>\n",
       "    </tr>\n",
       "    <tr>\n",
       "      <th>4</th>\n",
       "      <td>5</td>\n",
       "      <td>Cleber</td>\n",
       "    </tr>\n",
       "  </tbody>\n",
       "</table>\n",
       "</div>"
      ],
      "text/plain": [
       "   CD_CLIENTE NM_CLIENTE\n",
       "0           1       João\n",
       "1           2      Maria\n",
       "2           3       José\n",
       "3           4    Adilson\n",
       "4           5     Cleber"
      ]
     },
     "execution_count": 3,
     "metadata": {},
     "output_type": "execute_result"
    }
   ],
   "source": [
    "clientes"
   ]
  },
  {
   "cell_type": "code",
   "execution_count": 4,
   "metadata": {},
   "outputs": [],
   "source": [
    "# Convertendo valores de saída para negativo\n",
    "transacoes.loc[transacoes['CD_TRANSACAO'].isin([\"220\"]), 'VR_TRANSACAO'] *= -1"
   ]
  },
  {
   "cell_type": "code",
   "execution_count": 5,
   "metadata": {},
   "outputs": [
    {
     "data": {
      "text/html": [
       "<div>\n",
       "<style scoped>\n",
       "    .dataframe tbody tr th:only-of-type {\n",
       "        vertical-align: middle;\n",
       "    }\n",
       "\n",
       "    .dataframe tbody tr th {\n",
       "        vertical-align: top;\n",
       "    }\n",
       "\n",
       "    .dataframe thead th {\n",
       "        text-align: right;\n",
       "    }\n",
       "</style>\n",
       "<table border=\"1\" class=\"dataframe\">\n",
       "  <thead>\n",
       "    <tr style=\"text-align: right;\">\n",
       "      <th></th>\n",
       "      <th>CD_CLIENTE</th>\n",
       "      <th>DT_TRANSACAO</th>\n",
       "      <th>CD_TRANSACAO</th>\n",
       "      <th>VR_TRANSACAO</th>\n",
       "    </tr>\n",
       "  </thead>\n",
       "  <tbody>\n",
       "    <tr>\n",
       "      <th>0</th>\n",
       "      <td>1</td>\n",
       "      <td>2021-08-28</td>\n",
       "      <td>000</td>\n",
       "      <td>20.00</td>\n",
       "    </tr>\n",
       "    <tr>\n",
       "      <th>1</th>\n",
       "      <td>1</td>\n",
       "      <td>2021-09-09</td>\n",
       "      <td>110</td>\n",
       "      <td>78.90</td>\n",
       "    </tr>\n",
       "    <tr>\n",
       "      <th>2</th>\n",
       "      <td>1</td>\n",
       "      <td>2021-09-17</td>\n",
       "      <td>220</td>\n",
       "      <td>58.00</td>\n",
       "    </tr>\n",
       "    <tr>\n",
       "      <th>3</th>\n",
       "      <td>1</td>\n",
       "      <td>2021-11-15</td>\n",
       "      <td>110</td>\n",
       "      <td>178.90</td>\n",
       "    </tr>\n",
       "    <tr>\n",
       "      <th>4</th>\n",
       "      <td>1</td>\n",
       "      <td>2021-12-24</td>\n",
       "      <td>220</td>\n",
       "      <td>110.37</td>\n",
       "    </tr>\n",
       "    <tr>\n",
       "      <th>5</th>\n",
       "      <td>5</td>\n",
       "      <td>2021-10-28</td>\n",
       "      <td>110</td>\n",
       "      <td>220.00</td>\n",
       "    </tr>\n",
       "    <tr>\n",
       "      <th>6</th>\n",
       "      <td>5</td>\n",
       "      <td>2021-11-07</td>\n",
       "      <td>110</td>\n",
       "      <td>380.00</td>\n",
       "    </tr>\n",
       "    <tr>\n",
       "      <th>7</th>\n",
       "      <td>5</td>\n",
       "      <td>2021-12-05</td>\n",
       "      <td>220</td>\n",
       "      <td>398.86</td>\n",
       "    </tr>\n",
       "    <tr>\n",
       "      <th>8</th>\n",
       "      <td>5</td>\n",
       "      <td>2021-12-14</td>\n",
       "      <td>220</td>\n",
       "      <td>33.90</td>\n",
       "    </tr>\n",
       "    <tr>\n",
       "      <th>9</th>\n",
       "      <td>5</td>\n",
       "      <td>2021-12-21</td>\n",
       "      <td>220</td>\n",
       "      <td>16.90</td>\n",
       "    </tr>\n",
       "    <tr>\n",
       "      <th>10</th>\n",
       "      <td>3</td>\n",
       "      <td>2021-10-05</td>\n",
       "      <td>110</td>\n",
       "      <td>720.90</td>\n",
       "    </tr>\n",
       "    <tr>\n",
       "      <th>11</th>\n",
       "      <td>3</td>\n",
       "      <td>2021-11-05</td>\n",
       "      <td>110</td>\n",
       "      <td>720.90</td>\n",
       "    </tr>\n",
       "    <tr>\n",
       "      <th>12</th>\n",
       "      <td>3</td>\n",
       "      <td>2021-12-05</td>\n",
       "      <td>110</td>\n",
       "      <td>720.90</td>\n",
       "    </tr>\n",
       "    <tr>\n",
       "      <th>13</th>\n",
       "      <td>4</td>\n",
       "      <td>2021-10-09</td>\n",
       "      <td>000</td>\n",
       "      <td>50.00</td>\n",
       "    </tr>\n",
       "  </tbody>\n",
       "</table>\n",
       "</div>"
      ],
      "text/plain": [
       "    CD_CLIENTE DT_TRANSACAO CD_TRANSACAO  VR_TRANSACAO\n",
       "0            1   2021-08-28          000         20.00\n",
       "1            1   2021-09-09          110         78.90\n",
       "2            1   2021-09-17          220         58.00\n",
       "3            1   2021-11-15          110        178.90\n",
       "4            1   2021-12-24          220        110.37\n",
       "5            5   2021-10-28          110        220.00\n",
       "6            5   2021-11-07          110        380.00\n",
       "7            5   2021-12-05          220        398.86\n",
       "8            5   2021-12-14          220         33.90\n",
       "9            5   2021-12-21          220         16.90\n",
       "10           3   2021-10-05          110        720.90\n",
       "11           3   2021-11-05          110        720.90\n",
       "12           3   2021-12-05          110        720.90\n",
       "13           4   2021-10-09          000         50.00"
      ]
     },
     "execution_count": 5,
     "metadata": {},
     "output_type": "execute_result"
    }
   ],
   "source": [
    "transacoes"
   ]
  },
  {
   "cell_type": "markdown",
   "metadata": {},
   "source": [
    "### 1. Qual cliente teve o maior saldo médio no mês 11?"
   ]
  },
  {
   "cell_type": "code",
   "execution_count": 6,
   "metadata": {},
   "outputs": [
    {
     "name": "stdout",
     "output_type": "stream",
     "text": [
      "Cliente com maior saldo médio no mês 11: José\n"
     ]
    }
   ],
   "source": [
    "mensal = transacoes[transacoes['DT_TRANSACAO'].dt.month == 11]\n",
    "saldo_medio = mensal.groupby('CD_CLIENTE')['VR_TRANSACAO'].mean().idxmax()\n",
    "maior_saldo_medio = clientes.loc[clientes['CD_CLIENTE'] == saldo_medio, 'NM_CLIENTE'].values[0]\n",
    "print(\"Cliente com maior saldo médio no mês 11:\", maior_saldo_medio)"
   ]
  },
  {
   "cell_type": "markdown",
   "metadata": {},
   "source": [
    "### 2. Qual é o saldo de cada cliente?"
   ]
  },
  {
   "cell_type": "code",
   "execution_count": 7,
   "metadata": {},
   "outputs": [
    {
     "name": "stdout",
     "output_type": "stream",
     "text": [
      "Saldo por cliente:\n",
      " CD_CLIENTE\n",
      "1     446.17\n",
      "3    2162.70\n",
      "4      50.00\n",
      "5    1049.66\n",
      "Name: VR_TRANSACAO, dtype: float64\n"
     ]
    }
   ],
   "source": [
    "saldo_por_cliente = transacoes.groupby(\"CD_CLIENTE\")[\"VR_TRANSACAO\"].sum()\n",
    "print(\"Saldo por cliente:\\n\", saldo_por_cliente)"
   ]
  },
  {
   "cell_type": "markdown",
   "metadata": {},
   "source": [
    "### 3. Qual é o saldo médio de clientes que receberam CashBack?"
   ]
  },
  {
   "cell_type": "code",
   "execution_count": 8,
   "metadata": {},
   "outputs": [
    {
     "name": "stdout",
     "output_type": "stream",
     "text": [
      "Saldo médio de clientes que receberam CashBack: 248.085\n"
     ]
    }
   ],
   "source": [
    "clientes_cashback = transacoes[transacoes['CD_TRANSACAO'] == \"000\"][\"CD_CLIENTE\"].unique()\n",
    "saldo_cashback = saldo_por_cliente.loc[clientes_cashback].mean()\n",
    "print(\"Saldo médio de clientes que receberam CashBack:\", saldo_cashback)"
   ]
  },
  {
   "cell_type": "markdown",
   "metadata": {},
   "source": [
    "### 4. Qual o ticket médio das quatro últimas movimentações dos usuários?"
   ]
  },
  {
   "cell_type": "code",
   "execution_count": 9,
   "metadata": {},
   "outputs": [
    {
     "name": "stdout",
     "output_type": "stream",
     "text": [
      "Ticket médio das quatro últimas movimentações:\n",
      " CD_CLIENTE\n",
      "1    106.5425\n",
      "3    720.9000\n",
      "4     50.0000\n",
      "5    207.4150\n",
      "dtype: float64\n"
     ]
    }
   ],
   "source": [
    "ticket_medio = transacoes.groupby(\"CD_CLIENTE\").apply(lambda x: x.nlargest(4, \"DT_TRANSACAO\")[\"VR_TRANSACAO\"].mean())\n",
    "print(\"Ticket médio das quatro últimas movimentações:\\n\", ticket_medio)"
   ]
  },
  {
   "cell_type": "markdown",
   "metadata": {},
   "source": [
    "### 5. Qual é a proporção entre Cash In/Out mensal?"
   ]
  },
  {
   "cell_type": "code",
   "execution_count": 10,
   "metadata": {},
   "outputs": [
    {
     "name": "stdout",
     "output_type": "stream",
     "text": [
      "Proporção entre Cash In/Out mensal:\n",
      " CD_TRANSACAO  Proporcao_CashIn_Out\n",
      "AnoMes                            \n",
      "2021-08                        NaN\n",
      "2021-09                   1.360345\n",
      "2021-10                        inf\n",
      "2021-11                        inf\n",
      "2021-12                   1.287252\n"
     ]
    }
   ],
   "source": [
    "transacoes[\"AnoMes\"] = transacoes[\"DT_TRANSACAO\"].dt.to_period(\"M\")\n",
    "proporcao = transacoes.pivot_table(index=\"AnoMes\", columns=\"CD_TRANSACAO\", values=\"VR_TRANSACAO\", aggfunc=\"sum\", fill_value=0)\n",
    "proporcao[\"Proporcao_CashIn_Out\"] = proporcao[\"110\"] / abs(proporcao[\"220\"])\n",
    "print(\"Proporção entre Cash In/Out mensal:\\n\", proporcao[[\"Proporcao_CashIn_Out\"]])"
   ]
  },
  {
   "cell_type": "markdown",
   "metadata": {},
   "source": [
    "### 6. Qual a última transação de cada tipo para cada usuário?"
   ]
  },
  {
   "cell_type": "code",
   "execution_count": 11,
   "metadata": {},
   "outputs": [
    {
     "name": "stdout",
     "output_type": "stream",
     "text": [
      "Última transação de cada tipo por usuário:\n",
      "                         DT_TRANSACAO  VR_TRANSACAO   AnoMes\n",
      "CD_CLIENTE CD_TRANSACAO                                    \n",
      "1          000            2021-08-28         20.00  2021-08\n",
      "           110            2021-11-15        178.90  2021-11\n",
      "           220            2021-12-24        110.37  2021-12\n",
      "3          110            2021-12-05        720.90  2021-12\n",
      "4          000            2021-10-09         50.00  2021-10\n",
      "5          110            2021-11-07        380.00  2021-11\n",
      "           220            2021-12-21         16.90  2021-12\n"
     ]
    }
   ],
   "source": [
    "ultima_transacao_tipo = transacoes.sort_values(\"DT_TRANSACAO\").groupby([\"CD_CLIENTE\", \"CD_TRANSACAO\"]).last()\n",
    "print(\"Última transação de cada tipo por usuário:\\n\", ultima_transacao_tipo)"
   ]
  },
  {
   "cell_type": "markdown",
   "metadata": {},
   "source": [
    "### 7. Qual a última transação de cada tipo para cada usuário por mês?"
   ]
  },
  {
   "cell_type": "code",
   "execution_count": 12,
   "metadata": {},
   "outputs": [
    {
     "name": "stdout",
     "output_type": "stream",
     "text": [
      "Última transação de cada tipo por usuário por mês:\n",
      "                                 DT_TRANSACAO  VR_TRANSACAO\n",
      "CD_CLIENTE CD_TRANSACAO AnoMes                            \n",
      "1          000          2021-08   2021-08-28         20.00\n",
      "           110          2021-09   2021-09-09         78.90\n",
      "                        2021-11   2021-11-15        178.90\n",
      "           220          2021-09   2021-09-17         58.00\n",
      "                        2021-12   2021-12-24        110.37\n",
      "3          110          2021-10   2021-10-05        720.90\n",
      "                        2021-11   2021-11-05        720.90\n",
      "                        2021-12   2021-12-05        720.90\n",
      "4          000          2021-10   2021-10-09         50.00\n",
      "5          110          2021-10   2021-10-28        220.00\n",
      "                        2021-11   2021-11-07        380.00\n",
      "           220          2021-12   2021-12-21         16.90\n"
     ]
    }
   ],
   "source": [
    "ultima_transacao_mes = transacoes.sort_values(\"DT_TRANSACAO\").groupby([\"CD_CLIENTE\", \"CD_TRANSACAO\", \"AnoMes\"]).last()\n",
    "print(\"Última transação de cada tipo por usuário por mês:\\n\", ultima_transacao_mes)"
   ]
  },
  {
   "cell_type": "markdown",
   "metadata": {},
   "source": [
    "### 8. Qual a quantidade de usuários que movimentaram a conta?"
   ]
  },
  {
   "cell_type": "code",
   "execution_count": 13,
   "metadata": {},
   "outputs": [
    {
     "name": "stdout",
     "output_type": "stream",
     "text": [
      "Quantidade de usuários que movimentaram a conta: 4\n"
     ]
    }
   ],
   "source": [
    "usuarios_ativos = transacoes[\"CD_CLIENTE\"].nunique()\n",
    "print(\"Quantidade de usuários que movimentaram a conta:\", usuarios_ativos)"
   ]
  },
  {
   "cell_type": "markdown",
   "metadata": {},
   "source": [
    "### 9. Qual o balanço do final de 2021?"
   ]
  },
  {
   "cell_type": "code",
   "execution_count": 14,
   "metadata": {},
   "outputs": [
    {
     "name": "stdout",
     "output_type": "stream",
     "text": [
      "Balanço final de 2021:\n",
      " CD_CLIENTE\n",
      "1    110.37\n",
      "3    720.90\n",
      "5    449.66\n",
      "Name: VR_TRANSACAO, dtype: float64\n"
     ]
    }
   ],
   "source": [
    "balanco_final_2021 = transacoes[transacoes['DT_TRANSACAO'].dt.month == 12].groupby('CD_CLIENTE')['VR_TRANSACAO'].sum()\n",
    "print(\"Balanço final de 2021:\\n\", balanco_final_2021)"
   ]
  },
  {
   "cell_type": "markdown",
   "metadata": {},
   "source": [
    "### 10. Quantos usuários que receberam CashBack continuaram interagindo com este banco?"
   ]
  },
  {
   "cell_type": "code",
   "execution_count": 15,
   "metadata": {},
   "outputs": [
    {
     "name": "stdout",
     "output_type": "stream",
     "text": [
      "Usuários que receberam CashBack e continuaram interagindo: 2\n"
     ]
    }
   ],
   "source": [
    "clientes_cashback = set(transacoes[transacoes['CD_TRANSACAO'] == \"000\"][\"CD_CLIENTE\"])\n",
    "clientes_ativos = set(transacoes[\"CD_CLIENTE\"])\n",
    "clientes_continuaram = len(clientes_cashback.intersection(clientes_ativos))\n",
    "print(\"Usuários que receberam CashBack e continuaram interagindo:\", clientes_continuaram)"
   ]
  },
  {
   "cell_type": "markdown",
   "metadata": {},
   "source": [
    "### 11. Qual a primeira e a última movimentação dos usuários com saldo maior que R$100?"
   ]
  },
  {
   "cell_type": "code",
   "execution_count": 16,
   "metadata": {},
   "outputs": [
    {
     "name": "stdout",
     "output_type": "stream",
     "text": [
      "Primeira e última movimentação dos usuários com saldo maior que R$100:\n",
      "            DT_TRANSACAO           \n",
      "                    min        max\n",
      "CD_CLIENTE                        \n",
      "1            2021-08-28 2021-12-24\n",
      "3            2021-10-05 2021-12-05\n",
      "5            2021-10-28 2021-12-21\n"
     ]
    }
   ],
   "source": [
    "usarios_saldo_maior_100 = saldo_por_cliente[saldo_por_cliente > 100].index\n",
    "movimentacoes = transacoes[transacoes['CD_CLIENTE'].isin(usarios_saldo_maior_100)]\n",
    "primeira_ultima = movimentacoes.groupby('CD_CLIENTE').agg({'DT_TRANSACAO': ['min', 'max']})\n",
    "print(\"Primeira e última movimentação dos usuários com saldo maior que R$100:\\n\", primeira_ultima)"
   ]
  },
  {
   "cell_type": "markdown",
   "metadata": {},
   "source": [
    "### 12. Qual o balanço das últimas quatro movimentações de cada usuário?"
   ]
  },
  {
   "cell_type": "code",
   "execution_count": 17,
   "metadata": {},
   "outputs": [
    {
     "name": "stdout",
     "output_type": "stream",
     "text": [
      "Balanço das últimas quatro movimentações:\n",
      " CD_CLIENTE\n",
      "1     426.17\n",
      "3    2162.70\n",
      "4      50.00\n",
      "5     829.66\n",
      "dtype: float64\n"
     ]
    }
   ],
   "source": [
    "balanco_ultimas4 = transacoes.groupby(\"CD_CLIENTE\").apply(lambda x: x.nlargest(4, \"DT_TRANSACAO\")[\"VR_TRANSACAO\"].sum())\n",
    "print(\"Balanço das últimas quatro movimentações:\\n\", balanco_ultimas4)"
   ]
  },
  {
   "cell_type": "markdown",
   "metadata": {},
   "source": [
    "### 13. Qual o ticket médio das últimas quatro movimentações de cada usuário?"
   ]
  },
  {
   "cell_type": "code",
   "execution_count": 18,
   "metadata": {},
   "outputs": [
    {
     "name": "stdout",
     "output_type": "stream",
     "text": [
      "Ticket médio das últimas quatro movimentações:\n",
      " CD_CLIENTE\n",
      "1    106.5425\n",
      "3    720.9000\n",
      "4     50.0000\n",
      "5    207.4150\n",
      "dtype: float64\n"
     ]
    }
   ],
   "source": [
    "ticket_medio_ultimas4 = transacoes.groupby(\"CD_CLIENTE\").apply(lambda x: x.nlargest(4, \"DT_TRANSACAO\")[\"VR_TRANSACAO\"].mean())\n",
    "print(\"Ticket médio das últimas quatro movimentações:\\n\", ticket_medio_ultimas4)"
   ]
  },
  {
   "cell_type": "markdown",
   "metadata": {},
   "source": [
    "## Graphs"
   ]
  },
  {
   "cell_type": "code",
   "execution_count": 19,
   "metadata": {},
   "outputs": [],
   "source": [
    "# Convertendo datas para datetime\n",
    "transacoes['DT_TRANSACAO'] = pd.to_datetime(transacoes['DT_TRANSACAO'])\n",
    "\n",
    "# Filtrando transações de novembro\n",
    "novembro = transacoes[(transacoes['DT_TRANSACAO'].dt.month == 11) & (transacoes['DT_TRANSACAO'].dt.year == 2021)]\n",
    "\n",
    "# Calculando saldo médio por cliente\n",
    "novembro['SALDO'] = novembro.groupby('CD_CLIENTE')['VR_TRANSACAO'].transform('sum')\n",
    "saldo_medio = novembro.groupby('CD_CLIENTE')['SALDO'].mean().reset_index()\n",
    "\n",
    "# Encontrar o cliente com o maior saldo médio\n",
    "cliente_maior_saldo = saldo_medio.loc[saldo_medio['SALDO'].idxmax()]"
   ]
  },
  {
   "cell_type": "code",
   "execution_count": 20,
   "metadata": {},
   "outputs": [
    {
     "data": {
      "image/png": "[encoded data removed]",
      "text/plain": [
       "<Figure size 1000x600 with 1 Axes>"
      ]
     },
     "metadata": {},
     "output_type": "display_data"
    }
   ],
   "source": [
    "plt.figure(figsize=(10, 6))\n",
    "plt.bar(saldo_medio['CD_CLIENTE'], saldo_medio['SALDO'], color='skyblue')\n",
    "plt.xlabel('Cliente')\n",
    "plt.ylabel('Saldo Médio')\n",
    "plt.title('Saldo Médio de Clientes no Mês 11/2021')\n",
    "plt.xticks(saldo_medio['CD_CLIENTE'])\n",
    "plt.show()"
   ]
  },
  {
   "cell_type": "code",
   "execution_count": 21,
   "metadata": {},
   "outputs": [],
   "source": [
    "# Calculando o saldo total por cliente\n",
    "saldo_cliente = transacoes.groupby('CD_CLIENTE')['VR_TRANSACAO'].sum().reset_index()\n",
    "\n",
    "# Merge com a tabela de clientes para mostrar o nome\n",
    "saldo_cliente = saldo_cliente.merge(clientes, on='CD_CLIENTE')"
   ]
  },
  {
   "cell_type": "markdown",
   "metadata": {},
   "source": [
    "### Gráfico de barras do saldo de cada cliente"
   ]
  },
  {
   "cell_type": "code",
   "execution_count": 22,
   "metadata": {},
   "outputs": [
    {
     "data": {
      "image/png": "[encoded data removed]",
      "text/plain": [
       "<Figure size 1000x600 with 1 Axes>"
      ]
     },
     "metadata": {},
     "output_type": "display_data"
    }
   ],
   "source": [
    "plt.figure(figsize=(10, 6))\n",
    "plt.bar(saldo_cliente['NM_CLIENTE'], saldo_cliente['VR_TRANSACAO'], color='lightgreen')\n",
    "plt.xlabel('Cliente')\n",
    "plt.ylabel('Saldo')\n",
    "plt.title('Saldo de Cada Cliente')\n",
    "plt.show()"
   ]
  },
  {
   "cell_type": "code",
   "execution_count": 23,
   "metadata": {},
   "outputs": [],
   "source": [
    "# Ordenando as transações por cliente e data\n",
    "transacoes = transacoes.sort_values(by=['CD_CLIENTE', 'DT_TRANSACAO'], ascending=[True, False])\n",
    "\n",
    "# Pegando as últimas 4 transações\n",
    "ultimas_4 = transacoes.groupby('CD_CLIENTE').head(4)"
   ]
  },
  {
   "cell_type": "markdown",
   "metadata": {},
   "source": [
    "### Gráfico de barras do ticket médio"
   ]
  },
  {
   "cell_type": "code",
   "execution_count": 24,
   "metadata": {},
   "outputs": [
    {
     "data": {
      "image/png": "[encoded data removed]",
      "text/plain": [
       "<Figure size 1000x600 with 1 Axes>"
      ]
     },
     "metadata": {},
     "output_type": "display_data"
    }
   ],
   "source": [
    "ticket_medio = ultimas_4.groupby('CD_CLIENTE')['VR_TRANSACAO'].mean().reset_index()\n",
    "plt.figure(figsize=(10, 6))\n",
    "plt.bar(ticket_medio['CD_CLIENTE'], ticket_medio['VR_TRANSACAO'], color='orange')\n",
    "plt.xlabel('Cliente')\n",
    "plt.ylabel('Ticket Médio')\n",
    "plt.title('Ticket Médio das Últimas 4 Transações por Cliente')\n",
    "plt.xticks(ticket_medio['CD_CLIENTE'])\n",
    "plt.show()"
   ]
  }
 ],
 "metadata": {
  "kernelspec": {
   "display_name": ".venv",
   "language": "python",
   "name": "python3"
  },
  "language_info": {
   "codemirror_mode": {
    "name": "ipython",
    "version": 3
   },
   "file_extension": ".py",
   "mimetype": "text/x-python",
   "name": "python",
   "nbconvert_exporter": "python",
   "pygments_lexer": "ipython3",
   "version": "3.12.7"
  }
 },
 "nbformat": 4,
 "nbformat_minor": 2
}
